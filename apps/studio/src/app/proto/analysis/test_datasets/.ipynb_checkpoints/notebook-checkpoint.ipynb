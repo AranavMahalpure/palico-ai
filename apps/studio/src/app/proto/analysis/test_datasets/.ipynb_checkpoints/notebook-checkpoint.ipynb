{
 "cells": [
  {
   "cell_type": "code",
   "execution_count": 8,
   "metadata": {},
   "outputs": [],
   "source": [
    "import pl from 'npm:nodejs-polars';"
   ]
  },
  {
   "cell_type": "code",
   "execution_count": 5,
   "metadata": {},
   "outputs": [],
   "source": [
    "import test from './t2.test.json' with { type: \"json\" }"
   ]
  },
  {
   "cell_type": "code",
   "execution_count": 78,
   "metadata": {},
   "outputs": [
    {
     "ename": "npm package 'lodash\"' does not exist.",
     "evalue": " ",
     "output_type": "error",
     "traceback": []
    }
   ],
   "source": [
    "import lodash from 'npm:lodash\""
   ]
  },
  {
   "cell_type": "code",
   "execution_count": 14,
   "metadata": {},
   "outputs": [
    {
     "data": {
      "text/plain": [
       "[\n",
       "  {\n",
       "    input: { userMessage: \u001b[32m\"Hello\"\u001b[39m },\n",
       "    tags: { intent: \u001b[32m\"greeting\"\u001b[39m },\n",
       "    output: {\n",
       "      message: \u001b[32m\"Hello! How can I assist you today?\"\u001b[39m,\n",
       "      conversationId: \u001b[32m\"96db8924-b37a-4229-bbae-e7c1440bd2b7\"\u001b[39m\n",
       "    },\n",
       "    metrics: { professionalism: \u001b[33m27\u001b[39m }\n",
       "  },\n",
       "  {\n",
       "    input: { userMessage: \u001b[32m\"What is 2 + 2?\"\u001b[39m },\n",
       "    tags: { intent: \u001b[32m\"math\"\u001b[39m },\n",
       "    output: {\n",
       "      message: \u001b[32m\"2 + 2 equals 4.\"\u001b[39m,\n",
       "      conversationId: \u001b[32m\"20fadbac-480a-46e5-8106-172de056856c\"\u001b[39m\n",
       "    },\n",
       "    metrics: { \u001b[32m\"exact-match\"\u001b[39m: \u001b[33mfalse\u001b[39m }\n",
       "  },\n",
       "  {\n",
       "    input: { userMessage: \u001b[32m\"Goodbye\"\u001b[39m },\n",
       "    tags: { intent: \u001b[32m\"greeting\"\u001b[39m },\n",
       "    output: {\n",
       "      message: \u001b[32m\"Goodbye! If you have any more questions in the future, feel free to ask. Have a great day!\"\u001b[39m,\n",
       "      conversationId: \u001b[32m\"c63222b0-994f-4ae4-8fb5-3b2f52147b53\"\u001b[39m\n",
       "    },\n",
       "    metrics: { professionalism: \u001b[33m27\u001b[39m }\n",
       "  },\n",
       "  {\n",
       "    input: { userMessage: \u001b[32m\"What is 3 + 3?\"\u001b[39m },\n",
       "    tags: { intent: \u001b[32m\"math\"\u001b[39m },\n",
       "    output: {\n",
       "      message: \u001b[32m\"3 + 3 equals 6.\"\u001b[39m,\n",
       "      conversationId: \u001b[32m\"5fb51e3f-c4e8-4c48-ae42-2df78ee11e14\"\u001b[39m\n",
       "    },\n",
       "    metrics: { \u001b[32m\"exact-match\"\u001b[39m: \u001b[33mfalse\u001b[39m }\n",
       "  },\n",
       "  {\n",
       "    input: { userMessage: \u001b[32m\"Hello\"\u001b[39m },\n",
       "    tags: { intent: \u001b[32m\"greeting\"\u001b[39m },\n",
       "    output: {\n",
       "      message: \u001b[32m\"Hello! How can I assist you today?\"\u001b[39m,\n",
       "      conversationId: \u001b[32m\"3b93ef30-ab72-4fd9-9fa7-117d04c14574\"\u001b[39m\n",
       "    },\n",
       "    metrics: { professionalism: \u001b[33m60\u001b[39m }\n",
       "  },\n",
       "  {\n",
       "    input: { userMessage: \u001b[32m\"Who is the president of the United States?\"\u001b[39m },\n",
       "    tags: {},\n",
       "    output: {\n",
       "      message: \u001b[32m\"As of September 2021, the President of the United States is Joe Biden.\"\u001b[39m,\n",
       "      conversationId: \u001b[32m\"caaa9838-e891-439b-82d4-8a4572283be5\"\u001b[39m\n",
       "    },\n",
       "    metrics: { factuality: \u001b[33mfalse\u001b[39m }\n",
       "  },\n",
       "  {\n",
       "    input: { userMessage: \u001b[32m\"What is 4 + 4?\"\u001b[39m },\n",
       "    tags: { intent: \u001b[32m\"math\"\u001b[39m },\n",
       "    output: {\n",
       "      message: \u001b[32m\"4 + 4 equals 8.\"\u001b[39m,\n",
       "      conversationId: \u001b[32m\"90a65e06-7424-45a3-ad4a-5172e905e650\"\u001b[39m\n",
       "    },\n",
       "    metrics: { \u001b[32m\"exact-match\"\u001b[39m: \u001b[33mfalse\u001b[39m }\n",
       "  },\n",
       "  {\n",
       "    input: { userMessage: \u001b[32m\"Goodbye\"\u001b[39m },\n",
       "    tags: { intent: \u001b[32m\"greeting\"\u001b[39m },\n",
       "    output: {\n",
       "      message: \u001b[32m\"Goodbye! If you have any more questions in the future, feel free to ask. Have a great day!\"\u001b[39m,\n",
       "      conversationId: \u001b[32m\"402531ac-308f-4e6a-95ec-aaa8f82ecdea\"\u001b[39m\n",
       "    },\n",
       "    metrics: { professionalism: \u001b[33m5\u001b[39m }\n",
       "  },\n",
       "  {\n",
       "    input: { userMessage: \u001b[32m\"What's my name?\"\u001b[39m },\n",
       "    tags: {},\n",
       "    output: {\n",
       "      message: \u001b[32m\"I'm sorry, but I don't have access to your personal information, including your name. How can I assi\"\u001b[39m... 13 more characters,\n",
       "      conversationId: \u001b[32m\"c4055edc-360c-45f8-9856-fad6be905cc8\"\u001b[39m\n",
       "    },\n",
       "    metrics: { contains: \u001b[33mfalse\u001b[39m }\n",
       "  }\n",
       "]"
      ]
     },
     "execution_count": 14,
     "metadata": {},
     "output_type": "execute_result"
    }
   ],
   "source": [
    "test.result"
   ]
  },
  {
   "cell_type": "code",
   "execution_count": 18,
   "metadata": {},
   "outputs": [],
   "source": [
    "import { flatten } from 'npm:flat'"
   ]
  },
  {
   "cell_type": "code",
   "execution_count": 40,
   "metadata": {},
   "outputs": [
    {
     "name": "stdout",
     "output_type": "stream",
     "text": [
      "Set(1) { \u001b[32m\"intent\"\u001b[39m }\n",
      "Set(4) { \u001b[32m\"professionalism\"\u001b[39m, \u001b[32m\"exact-match\"\u001b[39m, \u001b[32m\"factuality\"\u001b[39m, \u001b[32m\"contains\"\u001b[39m }\n"
     ]
    }
   ],
   "source": [
    "const allTagNames = new Set<string>()\n",
    "const allMetricNames = new Set<string>()\n",
    "\n",
    "test.result.forEach(item => {\n",
    "    Object.keys(item.tags).forEach(tag => allTagNames.add(tag))\n",
    "    Object.keys(item.metrics).forEach(metric => allMetricNames.add(metric))\n",
    "})\n",
    "\n",
    "console.log(allTagNames)\n",
    "console.log(allMetricNames)"
   ]
  },
  {
   "cell_type": "code",
   "execution_count": 42,
   "metadata": {},
   "outputs": [],
   "source": [
    "const testResultDataframeObject = test.result.map(result => {\n",
    "    const resultEntry = {}\n",
    "    resultEntry[\"input.userMessage\"] = result.input.userMessage ?? \"\"\n",
    "    resultEntry[\"input.payload\"] = result.input.payload ?? \"\"\n",
    "    allTagNames.forEach(tag => {\n",
    "        resultEntry[`tags.${tag}`] = result.tags[tag] ?? \"\"\n",
    "    })\n",
    "    allMetricNames.forEach(metric => {\n",
    "        resultEntry[`metrics.${metric}`] = result.metrics[metric] ?? \"\"\n",
    "    })\n",
    "    return resultEntry\n",
    "})"
   ]
  },
  {
   "cell_type": "code",
   "execution_count": 63,
   "metadata": {},
   "outputs": [],
   "source": [
    "export const flattenTestResult = (result: ExperimentTest['result']) => {\n",
    "  const allTagNames = new Set<string>()\n",
    "  const allMetricNames = new Set<string>()\n",
    "  result.forEach(item => {\n",
    "      Object.keys(item.tags).forEach(tag => allTagNames.add(tag))\n",
    "      Object.keys(item.metrics).forEach(metric => allMetricNames.add(metric))\n",
    "  })\n",
    "  return result.map(result => {\n",
    "      const resultEntry : Record<string, any> = {}\n",
    "      resultEntry[\"input.userMessage\"] = result.input.userMessage ?? \"\"\n",
    "      resultEntry[\"input.payload\"] = result.input.payload ?? \"\"\n",
    "      resultEntry[\"output.message\"] = result.output.message ?? \"\"\n",
    "      resultEntry[\"output.data\"] = result.output.data ?? \"\"\n",
    "      resultEntry[\"output.conversationId\"] = result.output.conversationId ?? \"\"\n",
    "      allTagNames.forEach(tag => {\n",
    "          resultEntry[`tags.${tag}`] = result.tags[tag] ?? \"\"\n",
    "      })\n",
    "      allMetricNames.forEach(metric => {\n",
    "          resultEntry[`metrics.${metric}`] = result.metrics[metric] ?? \"\"\n",
    "      })\n",
    "      return resultEntry\n",
    "  })\n",
    "}"
   ]
  },
  {
   "cell_type": "code",
   "execution_count": 64,
   "metadata": {},
   "outputs": [],
   "source": [
    "const testDataframe = flattenTestResult(test.result)"
   ]
  },
  {
   "cell_type": "code",
   "execution_count": 65,
   "metadata": {},
   "outputs": [],
   "source": [
    "const df = pl.readJSON(JSON.stringify(testDataframe))"
   ]
  },
  {
   "cell_type": "code",
   "execution_count": 66,
   "metadata": {},
   "outputs": [
    {
     "data": {
      "application/vnd.dataresource+json": {
       "data": [
        {
         "input.payload": "",
         "input.userMessage": "Hello",
         "metrics.contains": "",
         "metrics.exact-match": "",
         "metrics.factuality": "",
         "metrics.professionalism": "27",
         "output.conversationId": "96db8924-b37a-4229-bbae-e7c1440bd2b7",
         "output.data": "",
         "output.message": "Hello! How can I assist you today?",
         "tags.intent": "greeting"
        },
        {
         "input.payload": "",
         "input.userMessage": "What is 2 + 2?",
         "metrics.contains": "",
         "metrics.exact-match": "false",
         "metrics.factuality": "",
         "metrics.professionalism": "",
         "output.conversationId": "20fadbac-480a-46e5-8106-172de056856c",
         "output.data": "",
         "output.message": "2 + 2 equals 4.",
         "tags.intent": "math"
        },
        {
         "input.payload": "",
         "input.userMessage": "Goodbye",
         "metrics.contains": "",
         "metrics.exact-match": "",
         "metrics.factuality": "",
         "metrics.professionalism": "27",
         "output.conversationId": "c63222b0-994f-4ae4-8fb5-3b2f52147b53",
         "output.data": "",
         "output.message": "Goodbye! If you have any more questions in the future, feel free to ask. Have a great day!",
         "tags.intent": "greeting"
        },
        {
         "input.payload": "",
         "input.userMessage": "What is 3 + 3?",
         "metrics.contains": "",
         "metrics.exact-match": "false",
         "metrics.factuality": "",
         "metrics.professionalism": "",
         "output.conversationId": "5fb51e3f-c4e8-4c48-ae42-2df78ee11e14",
         "output.data": "",
         "output.message": "3 + 3 equals 6.",
         "tags.intent": "math"
        },
        {
         "input.payload": "",
         "input.userMessage": "Hello",
         "metrics.contains": "",
         "metrics.exact-match": "",
         "metrics.factuality": "",
         "metrics.professionalism": "60",
         "output.conversationId": "3b93ef30-ab72-4fd9-9fa7-117d04c14574",
         "output.data": "",
         "output.message": "Hello! How can I assist you today?",
         "tags.intent": "greeting"
        },
        {
         "input.payload": "",
         "input.userMessage": "Who is the president of the United States?",
         "metrics.contains": "",
         "metrics.exact-match": "",
         "metrics.factuality": "false",
         "metrics.professionalism": "",
         "output.conversationId": "caaa9838-e891-439b-82d4-8a4572283be5",
         "output.data": "",
         "output.message": "As of September 2021, the President of the United States is Joe Biden.",
         "tags.intent": ""
        },
        {
         "input.payload": "",
         "input.userMessage": "What is 4 + 4?",
         "metrics.contains": "",
         "metrics.exact-match": "false",
         "metrics.factuality": "",
         "metrics.professionalism": "",
         "output.conversationId": "90a65e06-7424-45a3-ad4a-5172e905e650",
         "output.data": "",
         "output.message": "4 + 4 equals 8.",
         "tags.intent": "math"
        },
        {
         "input.payload": "",
         "input.userMessage": "Goodbye",
         "metrics.contains": "",
         "metrics.exact-match": "",
         "metrics.factuality": "",
         "metrics.professionalism": "5",
         "output.conversationId": "402531ac-308f-4e6a-95ec-aaa8f82ecdea",
         "output.data": "",
         "output.message": "Goodbye! If you have any more questions in the future, feel free to ask. Have a great day!",
         "tags.intent": "greeting"
        },
        {
         "input.payload": "",
         "input.userMessage": "What's my name?",
         "metrics.contains": "false",
         "metrics.exact-match": "",
         "metrics.factuality": "",
         "metrics.professionalism": "",
         "output.conversationId": "c4055edc-360c-45f8-9856-fad6be905cc8",
         "output.data": "",
         "output.message": "I'm sorry, but I don't have access to your personal information, including your name. How can I assist you today?",
         "tags.intent": ""
        }
       ],
       "schema": {
        "fields": [
         {
          "name": "input.userMessage",
          "type": "string"
         },
         {
          "name": "input.payload",
          "type": "string"
         },
         {
          "name": "output.message",
          "type": "string"
         },
         {
          "name": "output.data",
          "type": "string"
         },
         {
          "name": "output.conversationId",
          "type": "string"
         },
         {
          "name": "tags.intent",
          "type": "string"
         },
         {
          "name": "metrics.professionalism",
          "type": "string"
         },
         {
          "name": "metrics.exact-match",
          "type": "string"
         },
         {
          "name": "metrics.factuality",
          "type": "string"
         },
         {
          "name": "metrics.contains",
          "type": "string"
         }
        ]
       }
      },
      "text/html": [
       "<table><thead><tr><th>input.userMessage</th><th>input.payload</th><th>output.message</th><th>output.data</th><th>output.conversationId</th><th>tags.intent</th><th>metrics.professionalism</th><th>metrics.exact-match</th><th>metrics.factuality</th><th>metrics.contains</th></tr></thead><tbody><tr><td>Hello</td><td></td><td>Hello! How can I assist you today?</td><td></td><td>96db8924-b37a-4229-bbae-e7c1440bd2b7</td><td>greeting</td><td>27</td><td></td><td></td><td></td></tr><tr><td>What is 2 + 2?</td><td></td><td>2 + 2 equals 4.</td><td></td><td>20fadbac-480a-46e5-8106-172de056856c</td><td>math</td><td></td><td>false</td><td></td><td></td></tr><tr><td>Goodbye</td><td></td><td>Goodbye! If you have any more questions in the future, feel free to ask. Have a great day!</td><td></td><td>c63222b0-994f-4ae4-8fb5-3b2f52147b53</td><td>greeting</td><td>27</td><td></td><td></td><td></td></tr><tr><td>What is 3 + 3?</td><td></td><td>3 + 3 equals 6.</td><td></td><td>5fb51e3f-c4e8-4c48-ae42-2df78ee11e14</td><td>math</td><td></td><td>false</td><td></td><td></td></tr><tr><td>Hello</td><td></td><td>Hello! How can I assist you today?</td><td></td><td>3b93ef30-ab72-4fd9-9fa7-117d04c14574</td><td>greeting</td><td>60</td><td></td><td></td><td></td></tr><tr><td>Who is the president of the United States?</td><td></td><td>As of September 2021, the President of the United States is Joe Biden.</td><td></td><td>caaa9838-e891-439b-82d4-8a4572283be5</td><td></td><td></td><td></td><td>false</td><td></td></tr><tr><td>What is 4 + 4?</td><td></td><td>4 + 4 equals 8.</td><td></td><td>90a65e06-7424-45a3-ad4a-5172e905e650</td><td>math</td><td></td><td>false</td><td></td><td></td></tr><tr><td>Goodbye</td><td></td><td>Goodbye! If you have any more questions in the future, feel free to ask. Have a great day!</td><td></td><td>402531ac-308f-4e6a-95ec-aaa8f82ecdea</td><td>greeting</td><td>5</td><td></td><td></td><td></td></tr><tr><td>What&#39;s my name?</td><td></td><td>I&#39;m sorry, but I don&#39;t have access to your personal information, including your name. How can I assist you today?</td><td></td><td>c4055edc-360c-45f8-9856-fad6be905cc8</td><td></td><td></td><td></td><td></td><td>false</td></tr></tbody></table>"
      ]
     },
     "execution_count": 66,
     "metadata": {},
     "output_type": "execute_result"
    }
   ],
   "source": [
    "df"
   ]
  },
  {
   "cell_type": "code",
   "execution_count": 81,
   "metadata": {},
   "outputs": [],
   "source": [
    "const intentGroup = df.groupBy(\"tags.intent\")"
   ]
  },
  {
   "cell_type": "code",
   "execution_count": 85,
   "metadata": {},
   "outputs": [],
   "source": [
    "const grouped = intentGroup.aggList()"
   ]
  },
  {
   "cell_type": "code",
   "execution_count": 88,
   "metadata": {},
   "outputs": [
    {
     "data": {
      "application/vnd.dataresource+json": {
       "data": [
        {
         "input.payload": [
          "",
          "",
          ""
         ],
         "input.userMessage": [
          "What is 2 + 2?",
          "What is 3 + 3?",
          "What is 4 + 4?"
         ],
         "metrics.contains": [
          "",
          "",
          ""
         ],
         "metrics.exact-match": [
          "false",
          "false",
          "false"
         ],
         "metrics.factuality": [
          "",
          "",
          ""
         ],
         "metrics.professionalism": [
          "",
          "",
          ""
         ],
         "output.conversationId": [
          "20fadbac-480a-46e5-8106-172de056856c",
          "5fb51e3f-c4e8-4c48-ae42-2df78ee11e14",
          "90a65e06-7424-45a3-ad4a-5172e905e650"
         ],
         "output.data": [
          "",
          "",
          ""
         ],
         "output.message": [
          "2 + 2 equals 4.",
          "3 + 3 equals 6.",
          "4 + 4 equals 8."
         ],
         "tags.intent": "math"
        },
        {
         "input.payload": [
          "",
          "",
          "",
          ""
         ],
         "input.userMessage": [
          "Hello",
          "Goodbye",
          "Hello",
          "Goodbye"
         ],
         "metrics.contains": [
          "",
          "",
          "",
          ""
         ],
         "metrics.exact-match": [
          "",
          "",
          "",
          ""
         ],
         "metrics.factuality": [
          "",
          "",
          "",
          ""
         ],
         "metrics.professionalism": [
          "27",
          "27",
          "60",
          "5"
         ],
         "output.conversationId": [
          "96db8924-b37a-4229-bbae-e7c1440bd2b7",
          "c63222b0-994f-4ae4-8fb5-3b2f52147b53",
          "3b93ef30-ab72-4fd9-9fa7-117d04c14574",
          "402531ac-308f-4e6a-95ec-aaa8f82ecdea"
         ],
         "output.data": [
          "",
          "",
          "",
          ""
         ],
         "output.message": [
          "Hello! How can I assist you today?",
          "Goodbye! If you have any more questions in the future, feel free to ask. Have a great day!",
          "Hello! How can I assist you today?",
          "Goodbye! If you have any more questions in the future, feel free to ask. Have a great day!"
         ],
         "tags.intent": "greeting"
        },
        {
         "input.payload": [
          "",
          ""
         ],
         "input.userMessage": [
          "Who is the president of the United States?",
          "What's my name?"
         ],
         "metrics.contains": [
          "",
          "false"
         ],
         "metrics.exact-match": [
          "",
          ""
         ],
         "metrics.factuality": [
          "false",
          ""
         ],
         "metrics.professionalism": [
          "",
          ""
         ],
         "output.conversationId": [
          "caaa9838-e891-439b-82d4-8a4572283be5",
          "c4055edc-360c-45f8-9856-fad6be905cc8"
         ],
         "output.data": [
          "",
          ""
         ],
         "output.message": [
          "As of September 2021, the President of the United States is Joe Biden.",
          "I'm sorry, but I don't have access to your personal information, including your name. How can I assist you today?"
         ],
         "tags.intent": ""
        }
       ],
       "schema": {
        "fields": [
         {
          "name": "tags.intent",
          "type": "string"
         },
         {
          "name": "input.userMessage",
          "type": "array"
         },
         {
          "name": "input.payload",
          "type": "array"
         },
         {
          "name": "output.message",
          "type": "array"
         },
         {
          "name": "output.data",
          "type": "array"
         },
         {
          "name": "output.conversationId",
          "type": "array"
         },
         {
          "name": "metrics.professionalism",
          "type": "array"
         },
         {
          "name": "metrics.exact-match",
          "type": "array"
         },
         {
          "name": "metrics.factuality",
          "type": "array"
         },
         {
          "name": "metrics.contains",
          "type": "array"
         }
        ]
       }
      },
      "text/html": [
       "<table><thead><tr><th>tags.intent</th><th>input.userMessage</th><th>input.payload</th><th>output.message</th><th>output.data</th><th>output.conversationId</th><th>metrics.professionalism</th><th>metrics.exact-match</th><th>metrics.factuality</th><th>metrics.contains</th></tr></thead><tbody><tr><td>math</td><td>What is 2 + 2?,What is 3 + 3?,What is 4 + 4?</td><td>,,</td><td>2 + 2 equals 4.,3 + 3 equals 6.,4 + 4 equals 8.</td><td>,,</td><td>20fadbac-480a-46e5-8106-172de056856c,5fb51e3f-c4e8-4c48-ae42-2df78ee11e14,90a65e06-7424-45a3-ad4a-5172e905e650</td><td>,,</td><td>false,false,false</td><td>,,</td><td>,,</td></tr><tr><td>greeting</td><td>Hello,Goodbye,Hello,Goodbye</td><td>,,,</td><td>Hello! How can I assist you today?,Goodbye! If you have any more questions in the future, feel free to ask. Have a great day!,Hello! How can I assist you today?,Goodbye! If you have any more questions in the future, feel free to ask. Have a great day!</td><td>,,,</td><td>96db8924-b37a-4229-bbae-e7c1440bd2b7,c63222b0-994f-4ae4-8fb5-3b2f52147b53,3b93ef30-ab72-4fd9-9fa7-117d04c14574,402531ac-308f-4e6a-95ec-aaa8f82ecdea</td><td>27,27,60,5</td><td>,,,</td><td>,,,</td><td>,,,</td></tr><tr><td></td><td>Who is the president of the United States?,What&#39;s my name?</td><td>,</td><td>As of September 2021, the President of the United States is Joe Biden.,I&#39;m sorry, but I don&#39;t have access to your personal information, including your name. How can I assist you today?</td><td>,</td><td>caaa9838-e891-439b-82d4-8a4572283be5,c4055edc-360c-45f8-9856-fad6be905cc8</td><td>,</td><td>,</td><td>false,</td><td>,false</td></tr></tbody></table>"
      ]
     },
     "execution_count": 88,
     "metadata": {},
     "output_type": "execute_result"
    }
   ],
   "source": [
    "grouped"
   ]
  },
  {
   "cell_type": "code",
   "execution_count": 89,
   "metadata": {},
   "outputs": [],
   "source": [
    "const json = grouped.writeJSON({format: \"json\"})"
   ]
  },
  {
   "cell_type": "code",
   "execution_count": 92,
   "metadata": {},
   "outputs": [
    {
     "data": {
      "text/plain": [
       "[\n",
       "  {\n",
       "    \u001b[32m\"tags.intent\"\u001b[39m: \u001b[32m\"math\"\u001b[39m,\n",
       "    \u001b[32m\"input.userMessage\"\u001b[39m: [ \u001b[32m\"What is 2 + 2?\"\u001b[39m, \u001b[32m\"What is 3 + 3?\"\u001b[39m, \u001b[32m\"What is 4 + 4?\"\u001b[39m ],\n",
       "    \u001b[32m\"input.payload\"\u001b[39m: [ \u001b[32m\"\"\u001b[39m, \u001b[32m\"\"\u001b[39m, \u001b[32m\"\"\u001b[39m ],\n",
       "    \u001b[32m\"output.message\"\u001b[39m: [ \u001b[32m\"2 + 2 equals 4.\"\u001b[39m, \u001b[32m\"3 + 3 equals 6.\"\u001b[39m, \u001b[32m\"4 + 4 equals 8.\"\u001b[39m ],\n",
       "    \u001b[32m\"output.data\"\u001b[39m: [ \u001b[32m\"\"\u001b[39m, \u001b[32m\"\"\u001b[39m, \u001b[32m\"\"\u001b[39m ],\n",
       "    \u001b[32m\"output.conversationId\"\u001b[39m: [\n",
       "      \u001b[32m\"20fadbac-480a-46e5-8106-172de056856c\"\u001b[39m,\n",
       "      \u001b[32m\"5fb51e3f-c4e8-4c48-ae42-2df78ee11e14\"\u001b[39m,\n",
       "      \u001b[32m\"90a65e06-7424-45a3-ad4a-5172e905e650\"\u001b[39m\n",
       "    ],\n",
       "    \u001b[32m\"metrics.professionalism\"\u001b[39m: [ \u001b[32m\"\"\u001b[39m, \u001b[32m\"\"\u001b[39m, \u001b[32m\"\"\u001b[39m ],\n",
       "    \u001b[32m\"metrics.exact-match\"\u001b[39m: [ \u001b[32m\"false\"\u001b[39m, \u001b[32m\"false\"\u001b[39m, \u001b[32m\"false\"\u001b[39m ],\n",
       "    \u001b[32m\"metrics.factuality\"\u001b[39m: [ \u001b[32m\"\"\u001b[39m, \u001b[32m\"\"\u001b[39m, \u001b[32m\"\"\u001b[39m ],\n",
       "    \u001b[32m\"metrics.contains\"\u001b[39m: [ \u001b[32m\"\"\u001b[39m, \u001b[32m\"\"\u001b[39m, \u001b[32m\"\"\u001b[39m ]\n",
       "  },\n",
       "  {\n",
       "    \u001b[32m\"tags.intent\"\u001b[39m: \u001b[32m\"greeting\"\u001b[39m,\n",
       "    \u001b[32m\"input.userMessage\"\u001b[39m: [ \u001b[32m\"Hello\"\u001b[39m, \u001b[32m\"Goodbye\"\u001b[39m, \u001b[32m\"Hello\"\u001b[39m, \u001b[32m\"Goodbye\"\u001b[39m ],\n",
       "    \u001b[32m\"input.payload\"\u001b[39m: [ \u001b[32m\"\"\u001b[39m, \u001b[32m\"\"\u001b[39m, \u001b[32m\"\"\u001b[39m, \u001b[32m\"\"\u001b[39m ],\n",
       "    \u001b[32m\"output.message\"\u001b[39m: [\n",
       "      \u001b[32m\"Hello! How can I assist you today?\"\u001b[39m,\n",
       "      \u001b[32m\"Goodbye! If you have any more questions in the future, feel free to ask. Have a great day!\"\u001b[39m,\n",
       "      \u001b[32m\"Hello! How can I assist you today?\"\u001b[39m,\n",
       "      \u001b[32m\"Goodbye! If you have any more questions in the future, feel free to ask. Have a great day!\"\u001b[39m\n",
       "    ],\n",
       "    \u001b[32m\"output.data\"\u001b[39m: [ \u001b[32m\"\"\u001b[39m, \u001b[32m\"\"\u001b[39m, \u001b[32m\"\"\u001b[39m, \u001b[32m\"\"\u001b[39m ],\n",
       "    \u001b[32m\"output.conversationId\"\u001b[39m: [\n",
       "      \u001b[32m\"96db8924-b37a-4229-bbae-e7c1440bd2b7\"\u001b[39m,\n",
       "      \u001b[32m\"c63222b0-994f-4ae4-8fb5-3b2f52147b53\"\u001b[39m,\n",
       "      \u001b[32m\"3b93ef30-ab72-4fd9-9fa7-117d04c14574\"\u001b[39m,\n",
       "      \u001b[32m\"402531ac-308f-4e6a-95ec-aaa8f82ecdea\"\u001b[39m\n",
       "    ],\n",
       "    \u001b[32m\"metrics.professionalism\"\u001b[39m: [ \u001b[32m\"27\"\u001b[39m, \u001b[32m\"27\"\u001b[39m, \u001b[32m\"60\"\u001b[39m, \u001b[32m\"5\"\u001b[39m ],\n",
       "    \u001b[32m\"metrics.exact-match\"\u001b[39m: [ \u001b[32m\"\"\u001b[39m, \u001b[32m\"\"\u001b[39m, \u001b[32m\"\"\u001b[39m, \u001b[32m\"\"\u001b[39m ],\n",
       "    \u001b[32m\"metrics.factuality\"\u001b[39m: [ \u001b[32m\"\"\u001b[39m, \u001b[32m\"\"\u001b[39m, \u001b[32m\"\"\u001b[39m, \u001b[32m\"\"\u001b[39m ],\n",
       "    \u001b[32m\"metrics.contains\"\u001b[39m: [ \u001b[32m\"\"\u001b[39m, \u001b[32m\"\"\u001b[39m, \u001b[32m\"\"\u001b[39m, \u001b[32m\"\"\u001b[39m ]\n",
       "  },\n",
       "  {\n",
       "    \u001b[32m\"tags.intent\"\u001b[39m: \u001b[32m\"\"\u001b[39m,\n",
       "    \u001b[32m\"input.userMessage\"\u001b[39m: [ \u001b[32m\"Who is the president of the United States?\"\u001b[39m, \u001b[32m\"What's my name?\"\u001b[39m ],\n",
       "    \u001b[32m\"input.payload\"\u001b[39m: [ \u001b[32m\"\"\u001b[39m, \u001b[32m\"\"\u001b[39m ],\n",
       "    \u001b[32m\"output.message\"\u001b[39m: [\n",
       "      \u001b[32m\"As of September 2021, the President of the United States is Joe Biden.\"\u001b[39m,\n",
       "      \u001b[32m\"I'm sorry, but I don't have access to your personal information, including your name. How can I assi\"\u001b[39m... 13 more characters\n",
       "    ],\n",
       "    \u001b[32m\"output.data\"\u001b[39m: [ \u001b[32m\"\"\u001b[39m, \u001b[32m\"\"\u001b[39m ],\n",
       "    \u001b[32m\"output.conversationId\"\u001b[39m: [\n",
       "      \u001b[32m\"caaa9838-e891-439b-82d4-8a4572283be5\"\u001b[39m,\n",
       "      \u001b[32m\"c4055edc-360c-45f8-9856-fad6be905cc8\"\u001b[39m\n",
       "    ],\n",
       "    \u001b[32m\"metrics.professionalism\"\u001b[39m: [ \u001b[32m\"\"\u001b[39m, \u001b[32m\"\"\u001b[39m ],\n",
       "    \u001b[32m\"metrics.exact-match\"\u001b[39m: [ \u001b[32m\"\"\u001b[39m, \u001b[32m\"\"\u001b[39m ],\n",
       "    \u001b[32m\"metrics.factuality\"\u001b[39m: [ \u001b[32m\"false\"\u001b[39m, \u001b[32m\"\"\u001b[39m ],\n",
       "    \u001b[32m\"metrics.contains\"\u001b[39m: [ \u001b[32m\"\"\u001b[39m, \u001b[32m\"false\"\u001b[39m ]\n",
       "  }\n",
       "]"
      ]
     },
     "execution_count": 92,
     "metadata": {},
     "output_type": "execute_result"
    }
   ],
   "source": [
    "grouped.toRecords()"
   ]
  },
  {
   "cell_type": "code",
   "execution_count": null,
   "metadata": {},
   "outputs": [],
   "source": []
  }
 ],
 "metadata": {
  "kernelspec": {
   "display_name": "Deno",
   "language": "typescript",
   "name": "deno"
  },
  "language_info": {
   "file_extension": ".ts",
   "mimetype": "text/x.typescript",
   "name": "typescript",
   "nb_converter": "script",
   "pygments_lexer": "typescript",
   "version": "5.3.3"
  }
 },
 "nbformat": 4,
 "nbformat_minor": 4
}
